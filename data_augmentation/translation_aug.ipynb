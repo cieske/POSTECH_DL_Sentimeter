{
 "cells": [
  {
   "cell_type": "code",
   "execution_count": 9,
   "id": "b3916b86",
   "metadata": {},
   "outputs": [],
   "source": [
    "import torch\n",
    "import pandas as pd"
   ]
  },
  {
   "cell_type": "markdown",
   "id": "7f3f6c98",
   "metadata": {},
   "source": [
    "### DE-En module"
   ]
  },
  {
   "cell_type": "code",
   "execution_count": 2,
   "id": "d169c7f4",
   "metadata": {},
   "outputs": [
    {
     "name": "stderr",
     "output_type": "stream",
     "text": [
      "Using cache found in /home/docando/.cache/torch/hub/pytorch_fairseq_master\n"
     ]
    }
   ],
   "source": [
    "# load pre-trained En→De translation module\n",
    "\n",
    "en2de = torch.hub.load('pytorch/fairseq', 'transformer.wmt19.en-de.single_model')"
   ]
  },
  {
   "cell_type": "code",
   "execution_count": 4,
   "id": "02d46ce4",
   "metadata": {},
   "outputs": [
    {
     "data": {
      "text/plain": [
       "'Hallo Welt'"
      ]
     },
     "execution_count": 4,
     "metadata": {},
     "output_type": "execute_result"
    }
   ],
   "source": [
    "# 동작 test\n",
    "en2de.translate('Hello world', beam=5)"
   ]
  },
  {
   "cell_type": "markdown",
   "id": "7ccf27b7",
   "metadata": {},
   "source": [
    "### En-De module"
   ]
  },
  {
   "cell_type": "code",
   "execution_count": 5,
   "id": "13d10b12",
   "metadata": {},
   "outputs": [
    {
     "name": "stderr",
     "output_type": "stream",
     "text": [
      "Using cache found in /home/docando/.cache/torch/hub/pytorch_fairseq_master\n",
      "100%|██████████| 2992273886/2992273886 [04:42<00:00, 10592331.39B/s]\n"
     ]
    }
   ],
   "source": [
    "# load pre-trained De→En translation module\n",
    "\n",
    "de2en = torch.hub.load('pytorch/fairseq', 'transformer.wmt19.de-en.single_model')"
   ]
  },
  {
   "cell_type": "code",
   "execution_count": 6,
   "id": "2c647e72",
   "metadata": {
    "scrolled": true
   },
   "outputs": [
    {
     "data": {
      "text/plain": [
       "'Hello World'"
      ]
     },
     "execution_count": 6,
     "metadata": {},
     "output_type": "execute_result"
    }
   ],
   "source": [
    "# 동작 test\n",
    "de2en.translate('Hallo Welt', beam=5)"
   ]
  },
  {
   "cell_type": "markdown",
   "id": "a4953695",
   "metadata": {},
   "source": [
    "### Data Load"
   ]
  },
  {
   "cell_type": "code",
   "execution_count": 10,
   "id": "ab41d14f",
   "metadata": {},
   "outputs": [],
   "source": [
    "def load_data():\n",
    "    train = pd.read_csv(\"../data/train_final.csv\")\n",
    "    eval = pd.read_csv(\"../data/eval_final_open.csv\")\n",
    "    train_X = train['Sentence'] # 본문 내용을 기준으로 분류하기\n",
    "    train_Y = train['Category']\n",
    "    eval_X = eval['Sentence']\n",
    "    return train_X, train_Y, eval_X"
   ]
  },
  {
   "cell_type": "code",
   "execution_count": 11,
   "id": "c2c9c867",
   "metadata": {},
   "outputs": [],
   "source": [
    "train_x, train_y, test_x = load_data()"
   ]
  },
  {
   "cell_type": "code",
   "execution_count": 12,
   "id": "8ec6339f",
   "metadata": {},
   "outputs": [
    {
     "data": {
      "text/plain": [
       "0        -LRB- The film -RRB- tackles the topic of rela...\n",
       "1                    Lavishly , exhilaratingly tasteless .\n",
       "2                           It is also beautifully acted .\n",
       "3        But , like Silence , it 's a movie that gets u...\n",
       "4        It 's been made with an innocent yet fervid co...\n",
       "                               ...                        \n",
       "11539    Although Frailty fits into a classic genre , i...\n",
       "11540                   Mediocre fable from Burkina Faso .\n",
       "11541    Like all great films about a life you never kn...\n",
       "11542    Those who are n't put off by the film 's auste...\n",
       "11543    An ambitious movie that , like Shiner 's organ...\n",
       "Name: Sentence, Length: 11544, dtype: object"
      ]
     },
     "execution_count": 12,
     "metadata": {},
     "output_type": "execute_result"
    }
   ],
   "source": [
    "train_x"
   ]
  },
  {
   "cell_type": "code",
   "execution_count": null,
   "id": "8632a875",
   "metadata": {},
   "outputs": [],
   "source": [
    "en2de_train_x = en2de.translate(train_x, beam=5)"
   ]
  },
  {
   "cell_type": "code",
   "execution_count": null,
   "id": "5b315be9",
   "metadata": {},
   "outputs": [],
   "source": [
    "en2de_train_x"
   ]
  }
 ],
 "metadata": {
  "kernelspec": {
   "display_name": "Python 3",
   "language": "python",
   "name": "python3"
  },
  "language_info": {
   "codemirror_mode": {
    "name": "ipython",
    "version": 3
   },
   "file_extension": ".py",
   "mimetype": "text/x-python",
   "name": "python",
   "nbconvert_exporter": "python",
   "pygments_lexer": "ipython3",
   "version": "3.7.9"
  }
 },
 "nbformat": 4,
 "nbformat_minor": 5
}
