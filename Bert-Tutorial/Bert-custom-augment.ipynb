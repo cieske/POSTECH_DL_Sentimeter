{
 "cells": [
  {
   "cell_type": "markdown",
   "id": "cooperative-motor",
   "metadata": {},
   "source": [
    "## BERT with custom classifier\n",
    "\n",
    "Reference\n",
    "  - [Multi Class Text Classification With Deep Learning Using BERT](https://towardsdatascience.com/multi-class-text-classification-with-deep-learning-using-bert-b59ca2f5c613)\n",
    "  - [Sentiment Analysis with BERT and Transformers by Hugging Face using PyTorch and Python](https://curiousily.com/posts/sentiment-analysis-with-bert-and-hugging-face-using-pytorch-and-python/)\n",
    "\n",
    "\n",
    "What used?\n",
    "  * BertTokenizer\n",
    "  * BertModel\n",
    " \n",
    "BerModel returns hidden state output and pooled output. I add custom MLP with 1 hidden layer as classifier.\n"
   ]
  },
  {
   "cell_type": "markdown",
   "id": "hidden-kuwait",
   "metadata": {
    "ExecuteTime": {
     "end_time": "2021-05-18T11:40:51.945899Z",
     "start_time": "2021-05-18T11:40:51.930966Z"
    }
   },
   "source": [
    "### Requirement\n",
    "  * transformers == 4.6.0\n",
    "  * pytorch == 1.8.0\n",
    "  * numpy == 1.1.92\n",
    "  * pandas == 1.2.3\n",
    "  * tqdm == 4.60.0\n",
    "  * scikit-learn == 0.24.1"
   ]
  },
  {
   "cell_type": "markdown",
   "id": "buried-upset",
   "metadata": {
    "ExecuteTime": {
     "end_time": "2021-05-18T11:44:14.460119Z",
     "start_time": "2021-05-18T11:44:14.451143Z"
    }
   },
   "source": [
    "<a id=\"Table\"></a>\n",
    "### Table\n",
    "  - [Import library](#Import)\n",
    "  - [Check train set](#Trainset)\n",
    "  - [Split train/validation set](#Split)\n",
    "  - [Tokenizer, Encoding data](#Encode)\n",
    "  - [Check output of BertModel](#Output)\n",
    "  - [Define custom classifier model](#Classifier)\n",
    "  - [Call custom classifier model, Data loaders](#Model)\n",
    "    - Can modify batch_size in this block\n",
    "  - [Optimizer & Scheduler](#Optim)\n",
    "    - Can modify epochs, lr, etc. in this block\n",
    "  - [Load pre-trained weight](#Load)\n",
    "    - Can load pre-trained weight. If you don't want pre-trained weight, please skip this block\n",
    "  - [Running model](#Run)\n",
    "    - Can use pre-trained parameters\n",
    "  - [Test & Submission](#Sub)"
   ]
  },
  {
   "cell_type": "markdown",
   "id": "hungarian-discretion",
   "metadata": {},
   "source": [
    "<a id=\"Import\"></a>\n",
    "### Import library\n",
    "  - [Return to table](#Table)"
   ]
  },
  {
   "cell_type": "code",
   "execution_count": 64,
   "id": "defensive-alignment",
   "metadata": {
    "ExecuteTime": {
     "end_time": "2021-05-26T17:50:25.668294Z",
     "start_time": "2021-05-26T17:50:24.406223Z"
    }
   },
   "outputs": [],
   "source": [
    "import numpy as np\n",
    "import pandas as pd\n",
    "import torch\n",
    "from tqdm.notebook import tqdm\n",
    "\n",
    "from torch.utils.data import TensorDataset, DataLoader, RandomSampler, SequentialSampler\n",
    "from torch import nn, optim\n",
    "import torch.nn.functional as F\n",
    "\n",
    "from sklearn.model_selection import train_test_split\n",
    "from sklearn.metrics import f1_score\n",
    "\n",
    "from transformers import BertTokenizer, BertForSequenceClassification\n",
    "from transformers import BertForMaskedLM, BertModel\n",
    "from transformers import AdamW, get_linear_schedule_with_warmup"
   ]
  },
  {
   "cell_type": "code",
   "execution_count": 65,
   "id": "hourly-fifteen",
   "metadata": {
    "ExecuteTime": {
     "end_time": "2021-05-26T17:50:25.714505Z",
     "start_time": "2021-05-26T17:50:25.668632Z"
    }
   },
   "outputs": [
    {
     "name": "stdout",
     "output_type": "stream",
     "text": [
      "Use cuda\n"
     ]
    }
   ],
   "source": [
    "USE_CUDA = torch.cuda.is_available()\n",
    "print('Use', 'cuda' if USE_CUDA else 'cpu')\n",
    "device = torch.device('cuda' if USE_CUDA else 'cpu')\n",
    "#device = torch.device('cpu')"
   ]
  },
  {
   "cell_type": "markdown",
   "id": "cathedral-moses",
   "metadata": {},
   "source": [
    "<a id=\"Trainset\"></a>\n",
    "### Check train set\n",
    "  - [Return to table](#Table)"
   ]
  },
  {
   "cell_type": "code",
   "execution_count": 67,
   "id": "discrete-laundry",
   "metadata": {
    "ExecuteTime": {
     "end_time": "2021-05-26T17:50:25.744424Z",
     "start_time": "2021-05-26T17:50:25.715503Z"
    },
    "scrolled": true
   },
   "outputs": [
    {
     "name": "stdout",
     "output_type": "stream",
     "text": [
      "len of train_df :         Id  Category                                           Sentence  \\\n",
      "0      0.0         3  -LRB- The film -RRB- tackles the topic of rela...   \n",
      "1      1.0         2              Lavishly , exhilaratingly tasteless .   \n",
      "2      2.0         4                     It is also beautifully acted .   \n",
      "3      3.0         1  But , like Silence , it 's a movie that gets u...   \n",
      "4      4.0         2  It 's been made with an innocent yet fervid co...   \n",
      "...    ...       ...                                                ...   \n",
      "34306  NaN         3  Although Frailty fits into a classic genre, it...   \n",
      "34307  NaN         1                  Mediocre fable from Burkina Faso.   \n",
      "34308  NaN         4  Like all great films about a life you never kn...   \n",
      "34309  NaN         4  Those who are not deterred by the film's auste...   \n",
      "34310  NaN         4  An ambitious film that, like Shiner's organisa...   \n",
      "\n",
      "       Unnamed: 0  \n",
      "0             NaN  \n",
      "1             NaN  \n",
      "2             NaN  \n",
      "3             NaN  \n",
      "4             NaN  \n",
      "...           ...  \n",
      "34306     11539.0  \n",
      "34307     11540.0  \n",
      "34308     11541.0  \n",
      "34309     11542.0  \n",
      "34310     11543.0  \n",
      "\n",
      "[34311 rows x 4 columns]\n"
     ]
    }
   ],
   "source": [
    "train_df = pd.read_csv('./data/train_final.csv')\n",
    "#train_df = pd.read_csv('./data/aug_train_final.csv')\n",
    "\n",
    "aug_de_train_df = pd.read_csv(\"../data/augmented/train_x_de2en.csv\")\n",
    "aug_ru_train_df = pd.read_csv(\"../data/augmented/train_x_ru2en.csv\")\n",
    "\n",
    "# aug_de_train_df의 중복 데이터 제거\n",
    "aug_de_train_df = aug_de_train_df[aug_de_train_df['Sentence'] != aug_ru_train_df['Sentence']]\n",
    "aug_ru_train_df = aug_ru_train_df[aug_ru_train_df['Sentence'] != train_df['Sentence']]\n",
    "\n",
    "new_train_df = pd.concat([train_df,aug_ru_train_df,aug_de_train_df], ignore_index=True)\n",
    "train_df = new_train_df\n",
    "#train_df = train_df.drop_duplicates(['Sentence'])\n",
    "\n",
    "print(\"len of train_df :\" , train_df)"
   ]
  },
  {
   "cell_type": "markdown",
   "id": "compound-auction",
   "metadata": {},
   "source": [
    "Number of dataset, label distribution"
   ]
  },
  {
   "cell_type": "code",
   "execution_count": 68,
   "id": "adverse-kazakhstan",
   "metadata": {
    "ExecuteTime": {
     "end_time": "2021-05-26T17:50:25.774344Z",
     "start_time": "2021-05-26T17:50:25.745436Z"
    }
   },
   "outputs": [
    {
     "data": {
      "text/html": [
       "<div>\n",
       "<style scoped>\n",
       "    .dataframe tbody tr th:only-of-type {\n",
       "        vertical-align: middle;\n",
       "    }\n",
       "\n",
       "    .dataframe tbody tr th {\n",
       "        vertical-align: top;\n",
       "    }\n",
       "\n",
       "    .dataframe thead th {\n",
       "        text-align: right;\n",
       "    }\n",
       "</style>\n",
       "<table border=\"1\" class=\"dataframe\">\n",
       "  <thead>\n",
       "    <tr style=\"text-align: right;\">\n",
       "      <th></th>\n",
       "      <th>Id</th>\n",
       "      <th>Category</th>\n",
       "      <th>Sentence</th>\n",
       "      <th>Unnamed: 0</th>\n",
       "    </tr>\n",
       "  </thead>\n",
       "  <tbody>\n",
       "    <tr>\n",
       "      <th>34306</th>\n",
       "      <td>NaN</td>\n",
       "      <td>3</td>\n",
       "      <td>Although Frailty fits into a classic genre, it...</td>\n",
       "      <td>11539.0</td>\n",
       "    </tr>\n",
       "    <tr>\n",
       "      <th>34307</th>\n",
       "      <td>NaN</td>\n",
       "      <td>1</td>\n",
       "      <td>Mediocre fable from Burkina Faso.</td>\n",
       "      <td>11540.0</td>\n",
       "    </tr>\n",
       "    <tr>\n",
       "      <th>34308</th>\n",
       "      <td>NaN</td>\n",
       "      <td>4</td>\n",
       "      <td>Like all great films about a life you never kn...</td>\n",
       "      <td>11541.0</td>\n",
       "    </tr>\n",
       "    <tr>\n",
       "      <th>34309</th>\n",
       "      <td>NaN</td>\n",
       "      <td>4</td>\n",
       "      <td>Those who are not deterred by the film's auste...</td>\n",
       "      <td>11542.0</td>\n",
       "    </tr>\n",
       "    <tr>\n",
       "      <th>34310</th>\n",
       "      <td>NaN</td>\n",
       "      <td>4</td>\n",
       "      <td>An ambitious film that, like Shiner's organisa...</td>\n",
       "      <td>11543.0</td>\n",
       "    </tr>\n",
       "  </tbody>\n",
       "</table>\n",
       "</div>"
      ],
      "text/plain": [
       "       Id  Category                                           Sentence  \\\n",
       "34306 NaN         3  Although Frailty fits into a classic genre, it...   \n",
       "34307 NaN         1                  Mediocre fable from Burkina Faso.   \n",
       "34308 NaN         4  Like all great films about a life you never kn...   \n",
       "34309 NaN         4  Those who are not deterred by the film's auste...   \n",
       "34310 NaN         4  An ambitious film that, like Shiner's organisa...   \n",
       "\n",
       "       Unnamed: 0  \n",
       "34306     11539.0  \n",
       "34307     11540.0  \n",
       "34308     11541.0  \n",
       "34309     11542.0  \n",
       "34310     11543.0  "
      ]
     },
     "execution_count": 68,
     "metadata": {},
     "output_type": "execute_result"
    }
   ],
   "source": [
    "train_df.tail()"
   ]
  },
  {
   "cell_type": "code",
   "execution_count": 69,
   "id": "coordinate-creativity",
   "metadata": {
    "ExecuteTime": {
     "end_time": "2021-05-26T17:50:25.804399Z",
     "start_time": "2021-05-26T17:50:25.775342Z"
    }
   },
   "outputs": [
    {
     "data": {
      "text/plain": [
       "3    9258\n",
       "1    8960\n",
       "2    6547\n",
       "4    5157\n",
       "0    4389\n",
       "Name: Category, dtype: int64"
      ]
     },
     "execution_count": 69,
     "metadata": {},
     "output_type": "execute_result"
    }
   ],
   "source": [
    "train_df['Category'].value_counts()"
   ]
  },
  {
   "cell_type": "markdown",
   "id": "short-comfort",
   "metadata": {},
   "source": [
    "<a id=\"Split\"></a>\n",
    "### Split train/validation set\n",
    "  - [Return to table](#Table)"
   ]
  },
  {
   "cell_type": "code",
   "execution_count": 70,
   "id": "narrative-sympathy",
   "metadata": {
    "ExecuteTime": {
     "end_time": "2021-05-26T17:50:25.834765Z",
     "start_time": "2021-05-26T17:50:25.805294Z"
    }
   },
   "outputs": [
    {
     "data": {
      "text/html": [
       "<div>\n",
       "<style scoped>\n",
       "    .dataframe tbody tr th:only-of-type {\n",
       "        vertical-align: middle;\n",
       "    }\n",
       "\n",
       "    .dataframe tbody tr th {\n",
       "        vertical-align: top;\n",
       "    }\n",
       "\n",
       "    .dataframe thead th {\n",
       "        text-align: right;\n",
       "    }\n",
       "</style>\n",
       "<table border=\"1\" class=\"dataframe\">\n",
       "  <thead>\n",
       "    <tr style=\"text-align: right;\">\n",
       "      <th></th>\n",
       "      <th></th>\n",
       "      <th>Id</th>\n",
       "      <th>Sentence</th>\n",
       "      <th>Unnamed: 0</th>\n",
       "    </tr>\n",
       "    <tr>\n",
       "      <th>Category</th>\n",
       "      <th>data_type</th>\n",
       "      <th></th>\n",
       "      <th></th>\n",
       "      <th></th>\n",
       "    </tr>\n",
       "  </thead>\n",
       "  <tbody>\n",
       "    <tr>\n",
       "      <th rowspan=\"2\" valign=\"top\">0</th>\n",
       "      <th>train</th>\n",
       "      <td>1413</td>\n",
       "      <td>4169</td>\n",
       "      <td>2756</td>\n",
       "    </tr>\n",
       "    <tr>\n",
       "      <th>val</th>\n",
       "      <td>63</td>\n",
       "      <td>220</td>\n",
       "      <td>157</td>\n",
       "    </tr>\n",
       "    <tr>\n",
       "      <th rowspan=\"2\" valign=\"top\">1</th>\n",
       "      <th>train</th>\n",
       "      <td>2854</td>\n",
       "      <td>8512</td>\n",
       "      <td>5658</td>\n",
       "    </tr>\n",
       "    <tr>\n",
       "      <th>val</th>\n",
       "      <td>161</td>\n",
       "      <td>448</td>\n",
       "      <td>287</td>\n",
       "    </tr>\n",
       "    <tr>\n",
       "      <th rowspan=\"2\" valign=\"top\">2</th>\n",
       "      <th>train</th>\n",
       "      <td>2097</td>\n",
       "      <td>6220</td>\n",
       "      <td>4123</td>\n",
       "    </tr>\n",
       "    <tr>\n",
       "      <th>val</th>\n",
       "      <td>113</td>\n",
       "      <td>327</td>\n",
       "      <td>214</td>\n",
       "    </tr>\n",
       "    <tr>\n",
       "      <th rowspan=\"2\" valign=\"top\">3</th>\n",
       "      <th>train</th>\n",
       "      <td>2954</td>\n",
       "      <td>8795</td>\n",
       "      <td>5841</td>\n",
       "    </tr>\n",
       "    <tr>\n",
       "      <th>val</th>\n",
       "      <td>155</td>\n",
       "      <td>463</td>\n",
       "      <td>308</td>\n",
       "    </tr>\n",
       "    <tr>\n",
       "      <th rowspan=\"2\" valign=\"top\">4</th>\n",
       "      <th>train</th>\n",
       "      <td>1653</td>\n",
       "      <td>4899</td>\n",
       "      <td>3246</td>\n",
       "    </tr>\n",
       "    <tr>\n",
       "      <th>val</th>\n",
       "      <td>81</td>\n",
       "      <td>258</td>\n",
       "      <td>177</td>\n",
       "    </tr>\n",
       "  </tbody>\n",
       "</table>\n",
       "</div>"
      ],
      "text/plain": [
       "                      Id  Sentence  Unnamed: 0\n",
       "Category data_type                            \n",
       "0        train      1413      4169        2756\n",
       "         val          63       220         157\n",
       "1        train      2854      8512        5658\n",
       "         val         161       448         287\n",
       "2        train      2097      6220        4123\n",
       "         val         113       327         214\n",
       "3        train      2954      8795        5841\n",
       "         val         155       463         308\n",
       "4        train      1653      4899        3246\n",
       "         val          81       258         177"
      ]
     },
     "execution_count": 70,
     "metadata": {},
     "output_type": "execute_result"
    }
   ],
   "source": [
    "X_train, X_val, y_train, y_val = train_test_split(train_df.index.values,\n",
    "                                                  train_df.Category.values,\n",
    "                                                  test_size=0.05, \n",
    "                                                  random_state=42, \n",
    "                                                  stratify=train_df.Category.values)\n",
    "\n",
    "train_df.loc[X_train, 'data_type'] = 'train'\n",
    "train_df.loc[X_val, 'data_type'] = 'val'\n",
    "\n",
    "train_df.groupby(['Category', 'data_type']).count()"
   ]
  },
  {
   "cell_type": "code",
   "execution_count": 71,
   "id": "colonial-reporter",
   "metadata": {
    "ExecuteTime": {
     "end_time": "2021-05-26T17:50:25.849824Z",
     "start_time": "2021-05-26T17:50:25.835764Z"
    }
   },
   "outputs": [
    {
     "data": {
      "text/plain": [
       "{0: 0, 1: 1, 2: 2, 3: 3, 4: 4}"
      ]
     },
     "execution_count": 71,
     "metadata": {},
     "output_type": "execute_result"
    }
   ],
   "source": [
    "possible_labels = train_df.Category.unique()\n",
    "\n",
    "label_dict = {x:x for x in sorted(train_df['Category'].unique())}\n",
    "label_dict"
   ]
  },
  {
   "cell_type": "markdown",
   "id": "recognized-candle",
   "metadata": {},
   "source": [
    "<a id=\"Encode\"></a>\n",
    "### Tokenizer, Encoding data\n",
    "  - [Return to table](#Table)"
   ]
  },
  {
   "cell_type": "code",
   "execution_count": 72,
   "id": "funky-plenty",
   "metadata": {
    "ExecuteTime": {
     "end_time": "2021-05-26T17:50:33.110903Z",
     "start_time": "2021-05-26T17:50:25.850735Z"
    }
   },
   "outputs": [],
   "source": [
    "#Use below tokenizer\n",
    "tokenizer = BertTokenizer.from_pretrained('bert-base-uncased', \n",
    "                                          do_lower_case=True)\n",
    "\n",
    "#Encode train sentence\n",
    "encoded_data_train = tokenizer.batch_encode_plus(\n",
    "    train_df[train_df.data_type=='train'].Sentence.values, #Sentence data\n",
    "    add_special_tokens=True,    #Encoded with special tokens relative to their model\n",
    "    return_attention_mask=True, #Return attention mask according to tokenizer defined by max_length att.\n",
    "    padding='longest',           #Padding!\n",
    "    #truncation=True,            \n",
    "    return_tensors='pt'         #Return torch tensor\n",
    ")\n",
    "\n",
    "#Encode validation sentence\n",
    "encoded_data_val = tokenizer.batch_encode_plus(\n",
    "    train_df[train_df.data_type=='val'].Sentence.values, \n",
    "    add_special_tokens=True, \n",
    "    return_attention_mask=True, \n",
    "    padding='longest', \n",
    "    #truncation=True, \n",
    "    return_tensors='pt'\n",
    ")"
   ]
  },
  {
   "cell_type": "code",
   "execution_count": 73,
   "id": "typical-peoples",
   "metadata": {
    "ExecuteTime": {
     "end_time": "2021-05-26T17:50:33.125865Z",
     "start_time": "2021-05-26T17:50:33.112900Z"
    }
   },
   "outputs": [],
   "source": [
    "\"\"\"\n",
    "encoded_data_train has 3 keys:\n",
    "  *input_ids\n",
    "  *token_type_ids\n",
    "  *attention_mask\n",
    "\"\"\"\n",
    "\n",
    "#Input\n",
    "input_ids_train = encoded_data_train['input_ids']\n",
    "attention_masks_train = encoded_data_train['attention_mask']\n",
    "labels_train = torch.tensor(train_df[train_df.data_type=='train'].Category.values)\n",
    "\n",
    "#Validation\n",
    "input_ids_val = encoded_data_val['input_ids']\n",
    "attention_masks_val = encoded_data_val['attention_mask']\n",
    "labels_val = torch.tensor(train_df[train_df.data_type=='val'].Category.values)\n",
    "\n",
    "dataset_train = TensorDataset(input_ids_train, attention_masks_train, labels_train)\n",
    "dataset_val = TensorDataset(input_ids_val, attention_masks_val, labels_val)"
   ]
  },
  {
   "cell_type": "markdown",
   "id": "million-mouse",
   "metadata": {},
   "source": [
    "<a id=\"Output\"></a>\n",
    "### Check output of BertModel\n",
    "  - [Return to table](#Table)"
   ]
  },
  {
   "cell_type": "code",
   "execution_count": 74,
   "id": "funny-entity",
   "metadata": {
    "ExecuteTime": {
     "end_time": "2021-05-26T17:50:35.352552Z",
     "start_time": "2021-05-26T17:50:33.126862Z"
    }
   },
   "outputs": [],
   "source": [
    "model = BertModel.from_pretrained('bert-base-uncased')"
   ]
  },
  {
   "cell_type": "code",
   "execution_count": 75,
   "id": "color-malawi",
   "metadata": {
    "ExecuteTime": {
     "end_time": "2021-05-26T17:50:35.367513Z",
     "start_time": "2021-05-26T17:50:35.353549Z"
    }
   },
   "outputs": [
    {
     "name": "stdout",
     "output_type": "stream",
     "text": [
      "-LRB- The film -RRB- tackles the topic of relationships in such a straightforward , emotionally honest manner that by the end , it 's impossible to ascertain whether the film is , at its core , deeply pessimistic or quietly hopeful .\n"
     ]
    }
   ],
   "source": [
    "print(train_df['Sentence'][0])"
   ]
  },
  {
   "cell_type": "code",
   "execution_count": 76,
   "id": "alone-starter",
   "metadata": {
    "ExecuteTime": {
     "end_time": "2021-05-26T17:50:35.427353Z",
     "start_time": "2021-05-26T17:50:35.368510Z"
    }
   },
   "outputs": [],
   "source": [
    "encoding = tokenizer.encode_plus(\n",
    "                train_df['Sentence'][0],\n",
    "                add_special_tokens=True,\n",
    "                return_attention_mask=True,\n",
    "                padding='longest',        \n",
    "                return_tensors='pt')\n",
    "\n",
    "outputs = model(\n",
    "            input_ids=encoding['input_ids'],\n",
    "            attention_mask=encoding['attention_mask'])"
   ]
  },
  {
   "cell_type": "code",
   "execution_count": 52,
   "id": "killing-wisconsin",
   "metadata": {
    "ExecuteTime": {
     "end_time": "2021-05-26T17:50:35.442313Z",
     "start_time": "2021-05-26T17:50:35.428349Z"
    }
   },
   "outputs": [
    {
     "ename": "TypeError",
     "evalue": "tuple indices must be integers or slices, not str",
     "output_type": "error",
     "traceback": [
      "\u001b[0;31m---------------------------------------------------------------------------\u001b[0m",
      "\u001b[0;31mTypeError\u001b[0m                                 Traceback (most recent call last)",
      "\u001b[0;32m<ipython-input-52-5b932aefc816>\u001b[0m in \u001b[0;36m<module>\u001b[0;34m\u001b[0m\n\u001b[0;32m----> 1\u001b[0;31m \u001b[0moutputs\u001b[0m\u001b[0;34m[\u001b[0m\u001b[0;34m'last_hidden_state'\u001b[0m\u001b[0;34m]\u001b[0m\u001b[0;34m.\u001b[0m\u001b[0mshape\u001b[0m\u001b[0;34m\u001b[0m\u001b[0;34m\u001b[0m\u001b[0m\n\u001b[0m",
      "\u001b[0;31mTypeError\u001b[0m: tuple indices must be integers or slices, not str"
     ]
    }
   ],
   "source": [
    "outputs['last_hidden_state'].shape"
   ]
  },
  {
   "cell_type": "code",
   "execution_count": null,
   "id": "regulation-motivation",
   "metadata": {
    "ExecuteTime": {
     "end_time": "2021-05-26T17:50:35.457285Z",
     "start_time": "2021-05-26T17:50:35.443310Z"
    }
   },
   "outputs": [],
   "source": [
    "outputs['pooler_output'].shape"
   ]
  },
  {
   "cell_type": "markdown",
   "id": "higher-group",
   "metadata": {},
   "source": [
    "<a id=\"Classifier\"></a>\n",
    "### Define custom classifier model\n",
    "  - [Return to table](#Table)"
   ]
  },
  {
   "cell_type": "code",
   "execution_count": 77,
   "id": "higher-thong",
   "metadata": {
    "ExecuteTime": {
     "end_time": "2021-05-26T17:50:35.472246Z",
     "start_time": "2021-05-26T17:50:35.458283Z"
    }
   },
   "outputs": [],
   "source": [
    "class Classifier(nn.Module):\n",
    "    def __init__(self, n_classes):\n",
    "        super(Classifier, self).__init__()\n",
    "        self.bert = BertModel.from_pretrained('bert-base-uncased')\n",
    "        self.drop1 = nn.Dropout(p=0.3)\n",
    "        self.fc1 = nn.Linear(self.bert.config.hidden_size, self.bert.config.hidden_size//2)\n",
    "        self.output = nn.Linear(self.bert.config.hidden_size//2,  n_classes)\n",
    "        \n",
    "    def forward(self, input_ids, attention_mask):\n",
    "        x = self.bert(\n",
    "                    input_ids=input_ids,\n",
    "                    attention_mask=attention_mask)\n",
    "        x = self.drop1(x[1])\n",
    "        x = F.relu(self.fc1(x))\n",
    "        x = F.softmax(self.output(x), dim=1)\n",
    "        return x"
   ]
  },
  {
   "cell_type": "markdown",
   "id": "surprising-saying",
   "metadata": {},
   "source": [
    "<a id=\"Model\"></a>\n",
    "### Call custom classifier model, Data loaders\n",
    "  - [Return to table](#Table)"
   ]
  },
  {
   "cell_type": "code",
   "execution_count": 78,
   "id": "academic-plasma",
   "metadata": {
    "ExecuteTime": {
     "end_time": "2021-05-26T17:50:38.958451Z",
     "start_time": "2021-05-26T17:50:35.473243Z"
    }
   },
   "outputs": [
    {
     "data": {
      "text/plain": [
       "Classifier(\n",
       "  (bert): BertModel(\n",
       "    (embeddings): BertEmbeddings(\n",
       "      (word_embeddings): Embedding(30522, 768, padding_idx=0)\n",
       "      (position_embeddings): Embedding(512, 768)\n",
       "      (token_type_embeddings): Embedding(2, 768)\n",
       "      (LayerNorm): LayerNorm((768,), eps=1e-12, elementwise_affine=True)\n",
       "      (dropout): Dropout(p=0.1, inplace=False)\n",
       "    )\n",
       "    (encoder): BertEncoder(\n",
       "      (layer): ModuleList(\n",
       "        (0): BertLayer(\n",
       "          (attention): BertAttention(\n",
       "            (self): BertSelfAttention(\n",
       "              (query): Linear(in_features=768, out_features=768, bias=True)\n",
       "              (key): Linear(in_features=768, out_features=768, bias=True)\n",
       "              (value): Linear(in_features=768, out_features=768, bias=True)\n",
       "              (dropout): Dropout(p=0.1, inplace=False)\n",
       "            )\n",
       "            (output): BertSelfOutput(\n",
       "              (dense): Linear(in_features=768, out_features=768, bias=True)\n",
       "              (LayerNorm): LayerNorm((768,), eps=1e-12, elementwise_affine=True)\n",
       "              (dropout): Dropout(p=0.1, inplace=False)\n",
       "            )\n",
       "          )\n",
       "          (intermediate): BertIntermediate(\n",
       "            (dense): Linear(in_features=768, out_features=3072, bias=True)\n",
       "          )\n",
       "          (output): BertOutput(\n",
       "            (dense): Linear(in_features=3072, out_features=768, bias=True)\n",
       "            (LayerNorm): LayerNorm((768,), eps=1e-12, elementwise_affine=True)\n",
       "            (dropout): Dropout(p=0.1, inplace=False)\n",
       "          )\n",
       "        )\n",
       "        (1): BertLayer(\n",
       "          (attention): BertAttention(\n",
       "            (self): BertSelfAttention(\n",
       "              (query): Linear(in_features=768, out_features=768, bias=True)\n",
       "              (key): Linear(in_features=768, out_features=768, bias=True)\n",
       "              (value): Linear(in_features=768, out_features=768, bias=True)\n",
       "              (dropout): Dropout(p=0.1, inplace=False)\n",
       "            )\n",
       "            (output): BertSelfOutput(\n",
       "              (dense): Linear(in_features=768, out_features=768, bias=True)\n",
       "              (LayerNorm): LayerNorm((768,), eps=1e-12, elementwise_affine=True)\n",
       "              (dropout): Dropout(p=0.1, inplace=False)\n",
       "            )\n",
       "          )\n",
       "          (intermediate): BertIntermediate(\n",
       "            (dense): Linear(in_features=768, out_features=3072, bias=True)\n",
       "          )\n",
       "          (output): BertOutput(\n",
       "            (dense): Linear(in_features=3072, out_features=768, bias=True)\n",
       "            (LayerNorm): LayerNorm((768,), eps=1e-12, elementwise_affine=True)\n",
       "            (dropout): Dropout(p=0.1, inplace=False)\n",
       "          )\n",
       "        )\n",
       "        (2): BertLayer(\n",
       "          (attention): BertAttention(\n",
       "            (self): BertSelfAttention(\n",
       "              (query): Linear(in_features=768, out_features=768, bias=True)\n",
       "              (key): Linear(in_features=768, out_features=768, bias=True)\n",
       "              (value): Linear(in_features=768, out_features=768, bias=True)\n",
       "              (dropout): Dropout(p=0.1, inplace=False)\n",
       "            )\n",
       "            (output): BertSelfOutput(\n",
       "              (dense): Linear(in_features=768, out_features=768, bias=True)\n",
       "              (LayerNorm): LayerNorm((768,), eps=1e-12, elementwise_affine=True)\n",
       "              (dropout): Dropout(p=0.1, inplace=False)\n",
       "            )\n",
       "          )\n",
       "          (intermediate): BertIntermediate(\n",
       "            (dense): Linear(in_features=768, out_features=3072, bias=True)\n",
       "          )\n",
       "          (output): BertOutput(\n",
       "            (dense): Linear(in_features=3072, out_features=768, bias=True)\n",
       "            (LayerNorm): LayerNorm((768,), eps=1e-12, elementwise_affine=True)\n",
       "            (dropout): Dropout(p=0.1, inplace=False)\n",
       "          )\n",
       "        )\n",
       "        (3): BertLayer(\n",
       "          (attention): BertAttention(\n",
       "            (self): BertSelfAttention(\n",
       "              (query): Linear(in_features=768, out_features=768, bias=True)\n",
       "              (key): Linear(in_features=768, out_features=768, bias=True)\n",
       "              (value): Linear(in_features=768, out_features=768, bias=True)\n",
       "              (dropout): Dropout(p=0.1, inplace=False)\n",
       "            )\n",
       "            (output): BertSelfOutput(\n",
       "              (dense): Linear(in_features=768, out_features=768, bias=True)\n",
       "              (LayerNorm): LayerNorm((768,), eps=1e-12, elementwise_affine=True)\n",
       "              (dropout): Dropout(p=0.1, inplace=False)\n",
       "            )\n",
       "          )\n",
       "          (intermediate): BertIntermediate(\n",
       "            (dense): Linear(in_features=768, out_features=3072, bias=True)\n",
       "          )\n",
       "          (output): BertOutput(\n",
       "            (dense): Linear(in_features=3072, out_features=768, bias=True)\n",
       "            (LayerNorm): LayerNorm((768,), eps=1e-12, elementwise_affine=True)\n",
       "            (dropout): Dropout(p=0.1, inplace=False)\n",
       "          )\n",
       "        )\n",
       "        (4): BertLayer(\n",
       "          (attention): BertAttention(\n",
       "            (self): BertSelfAttention(\n",
       "              (query): Linear(in_features=768, out_features=768, bias=True)\n",
       "              (key): Linear(in_features=768, out_features=768, bias=True)\n",
       "              (value): Linear(in_features=768, out_features=768, bias=True)\n",
       "              (dropout): Dropout(p=0.1, inplace=False)\n",
       "            )\n",
       "            (output): BertSelfOutput(\n",
       "              (dense): Linear(in_features=768, out_features=768, bias=True)\n",
       "              (LayerNorm): LayerNorm((768,), eps=1e-12, elementwise_affine=True)\n",
       "              (dropout): Dropout(p=0.1, inplace=False)\n",
       "            )\n",
       "          )\n",
       "          (intermediate): BertIntermediate(\n",
       "            (dense): Linear(in_features=768, out_features=3072, bias=True)\n",
       "          )\n",
       "          (output): BertOutput(\n",
       "            (dense): Linear(in_features=3072, out_features=768, bias=True)\n",
       "            (LayerNorm): LayerNorm((768,), eps=1e-12, elementwise_affine=True)\n",
       "            (dropout): Dropout(p=0.1, inplace=False)\n",
       "          )\n",
       "        )\n",
       "        (5): BertLayer(\n",
       "          (attention): BertAttention(\n",
       "            (self): BertSelfAttention(\n",
       "              (query): Linear(in_features=768, out_features=768, bias=True)\n",
       "              (key): Linear(in_features=768, out_features=768, bias=True)\n",
       "              (value): Linear(in_features=768, out_features=768, bias=True)\n",
       "              (dropout): Dropout(p=0.1, inplace=False)\n",
       "            )\n",
       "            (output): BertSelfOutput(\n",
       "              (dense): Linear(in_features=768, out_features=768, bias=True)\n",
       "              (LayerNorm): LayerNorm((768,), eps=1e-12, elementwise_affine=True)\n",
       "              (dropout): Dropout(p=0.1, inplace=False)\n",
       "            )\n",
       "          )\n",
       "          (intermediate): BertIntermediate(\n",
       "            (dense): Linear(in_features=768, out_features=3072, bias=True)\n",
       "          )\n",
       "          (output): BertOutput(\n",
       "            (dense): Linear(in_features=3072, out_features=768, bias=True)\n",
       "            (LayerNorm): LayerNorm((768,), eps=1e-12, elementwise_affine=True)\n",
       "            (dropout): Dropout(p=0.1, inplace=False)\n",
       "          )\n",
       "        )\n",
       "        (6): BertLayer(\n",
       "          (attention): BertAttention(\n",
       "            (self): BertSelfAttention(\n",
       "              (query): Linear(in_features=768, out_features=768, bias=True)\n",
       "              (key): Linear(in_features=768, out_features=768, bias=True)\n",
       "              (value): Linear(in_features=768, out_features=768, bias=True)\n",
       "              (dropout): Dropout(p=0.1, inplace=False)\n",
       "            )\n",
       "            (output): BertSelfOutput(\n",
       "              (dense): Linear(in_features=768, out_features=768, bias=True)\n",
       "              (LayerNorm): LayerNorm((768,), eps=1e-12, elementwise_affine=True)\n",
       "              (dropout): Dropout(p=0.1, inplace=False)\n",
       "            )\n",
       "          )\n",
       "          (intermediate): BertIntermediate(\n",
       "            (dense): Linear(in_features=768, out_features=3072, bias=True)\n",
       "          )\n",
       "          (output): BertOutput(\n",
       "            (dense): Linear(in_features=3072, out_features=768, bias=True)\n",
       "            (LayerNorm): LayerNorm((768,), eps=1e-12, elementwise_affine=True)\n",
       "            (dropout): Dropout(p=0.1, inplace=False)\n",
       "          )\n",
       "        )\n",
       "        (7): BertLayer(\n",
       "          (attention): BertAttention(\n",
       "            (self): BertSelfAttention(\n",
       "              (query): Linear(in_features=768, out_features=768, bias=True)\n",
       "              (key): Linear(in_features=768, out_features=768, bias=True)\n",
       "              (value): Linear(in_features=768, out_features=768, bias=True)\n",
       "              (dropout): Dropout(p=0.1, inplace=False)\n",
       "            )\n",
       "            (output): BertSelfOutput(\n",
       "              (dense): Linear(in_features=768, out_features=768, bias=True)\n",
       "              (LayerNorm): LayerNorm((768,), eps=1e-12, elementwise_affine=True)\n",
       "              (dropout): Dropout(p=0.1, inplace=False)\n",
       "            )\n",
       "          )\n",
       "          (intermediate): BertIntermediate(\n",
       "            (dense): Linear(in_features=768, out_features=3072, bias=True)\n",
       "          )\n",
       "          (output): BertOutput(\n",
       "            (dense): Linear(in_features=3072, out_features=768, bias=True)\n",
       "            (LayerNorm): LayerNorm((768,), eps=1e-12, elementwise_affine=True)\n",
       "            (dropout): Dropout(p=0.1, inplace=False)\n",
       "          )\n",
       "        )\n",
       "        (8): BertLayer(\n",
       "          (attention): BertAttention(\n",
       "            (self): BertSelfAttention(\n",
       "              (query): Linear(in_features=768, out_features=768, bias=True)\n",
       "              (key): Linear(in_features=768, out_features=768, bias=True)\n",
       "              (value): Linear(in_features=768, out_features=768, bias=True)\n",
       "              (dropout): Dropout(p=0.1, inplace=False)\n",
       "            )\n",
       "            (output): BertSelfOutput(\n",
       "              (dense): Linear(in_features=768, out_features=768, bias=True)\n",
       "              (LayerNorm): LayerNorm((768,), eps=1e-12, elementwise_affine=True)\n",
       "              (dropout): Dropout(p=0.1, inplace=False)\n",
       "            )\n",
       "          )\n",
       "          (intermediate): BertIntermediate(\n",
       "            (dense): Linear(in_features=768, out_features=3072, bias=True)\n",
       "          )\n",
       "          (output): BertOutput(\n",
       "            (dense): Linear(in_features=3072, out_features=768, bias=True)\n",
       "            (LayerNorm): LayerNorm((768,), eps=1e-12, elementwise_affine=True)\n",
       "            (dropout): Dropout(p=0.1, inplace=False)\n",
       "          )\n",
       "        )\n",
       "        (9): BertLayer(\n",
       "          (attention): BertAttention(\n",
       "            (self): BertSelfAttention(\n",
       "              (query): Linear(in_features=768, out_features=768, bias=True)\n",
       "              (key): Linear(in_features=768, out_features=768, bias=True)\n",
       "              (value): Linear(in_features=768, out_features=768, bias=True)\n",
       "              (dropout): Dropout(p=0.1, inplace=False)\n",
       "            )\n",
       "            (output): BertSelfOutput(\n",
       "              (dense): Linear(in_features=768, out_features=768, bias=True)\n",
       "              (LayerNorm): LayerNorm((768,), eps=1e-12, elementwise_affine=True)\n",
       "              (dropout): Dropout(p=0.1, inplace=False)\n",
       "            )\n",
       "          )\n",
       "          (intermediate): BertIntermediate(\n",
       "            (dense): Linear(in_features=768, out_features=3072, bias=True)\n",
       "          )\n",
       "          (output): BertOutput(\n",
       "            (dense): Linear(in_features=3072, out_features=768, bias=True)\n",
       "            (LayerNorm): LayerNorm((768,), eps=1e-12, elementwise_affine=True)\n",
       "            (dropout): Dropout(p=0.1, inplace=False)\n",
       "          )\n",
       "        )\n",
       "        (10): BertLayer(\n",
       "          (attention): BertAttention(\n",
       "            (self): BertSelfAttention(\n",
       "              (query): Linear(in_features=768, out_features=768, bias=True)\n",
       "              (key): Linear(in_features=768, out_features=768, bias=True)\n",
       "              (value): Linear(in_features=768, out_features=768, bias=True)\n",
       "              (dropout): Dropout(p=0.1, inplace=False)\n",
       "            )\n",
       "            (output): BertSelfOutput(\n",
       "              (dense): Linear(in_features=768, out_features=768, bias=True)\n",
       "              (LayerNorm): LayerNorm((768,), eps=1e-12, elementwise_affine=True)\n",
       "              (dropout): Dropout(p=0.1, inplace=False)\n",
       "            )\n",
       "          )\n",
       "          (intermediate): BertIntermediate(\n",
       "            (dense): Linear(in_features=768, out_features=3072, bias=True)\n",
       "          )\n",
       "          (output): BertOutput(\n",
       "            (dense): Linear(in_features=3072, out_features=768, bias=True)\n",
       "            (LayerNorm): LayerNorm((768,), eps=1e-12, elementwise_affine=True)\n",
       "            (dropout): Dropout(p=0.1, inplace=False)\n",
       "          )\n",
       "        )\n",
       "        (11): BertLayer(\n",
       "          (attention): BertAttention(\n",
       "            (self): BertSelfAttention(\n",
       "              (query): Linear(in_features=768, out_features=768, bias=True)\n",
       "              (key): Linear(in_features=768, out_features=768, bias=True)\n",
       "              (value): Linear(in_features=768, out_features=768, bias=True)\n",
       "              (dropout): Dropout(p=0.1, inplace=False)\n",
       "            )\n",
       "            (output): BertSelfOutput(\n",
       "              (dense): Linear(in_features=768, out_features=768, bias=True)\n",
       "              (LayerNorm): LayerNorm((768,), eps=1e-12, elementwise_affine=True)\n",
       "              (dropout): Dropout(p=0.1, inplace=False)\n",
       "            )\n",
       "          )\n",
       "          (intermediate): BertIntermediate(\n",
       "            (dense): Linear(in_features=768, out_features=3072, bias=True)\n",
       "          )\n",
       "          (output): BertOutput(\n",
       "            (dense): Linear(in_features=3072, out_features=768, bias=True)\n",
       "            (LayerNorm): LayerNorm((768,), eps=1e-12, elementwise_affine=True)\n",
       "            (dropout): Dropout(p=0.1, inplace=False)\n",
       "          )\n",
       "        )\n",
       "      )\n",
       "    )\n",
       "    (pooler): BertPooler(\n",
       "      (dense): Linear(in_features=768, out_features=768, bias=True)\n",
       "      (activation): Tanh()\n",
       "    )\n",
       "  )\n",
       "  (drop1): Dropout(p=0.3, inplace=False)\n",
       "  (fc1): Linear(in_features=768, out_features=384, bias=True)\n",
       "  (output): Linear(in_features=384, out_features=5, bias=True)\n",
       ")"
      ]
     },
     "execution_count": 78,
     "metadata": {},
     "output_type": "execute_result"
    }
   ],
   "source": [
    "model = Classifier(len(train_df.Category.unique()))\n",
    "model.to(device)"
   ]
  },
  {
   "cell_type": "code",
   "execution_count": 79,
   "id": "similar-consistency",
   "metadata": {
    "ExecuteTime": {
     "end_time": "2021-05-26T17:50:38.973489Z",
     "start_time": "2021-05-26T17:50:38.959449Z"
    }
   },
   "outputs": [],
   "source": [
    "batch_size = 8\n",
    "\n",
    "dataloader_train = DataLoader(dataset_train, \n",
    "                              sampler=RandomSampler(dataset_train), \n",
    "                              batch_size=batch_size)\n",
    "\n",
    "dataloader_validation = DataLoader(dataset_val, \n",
    "                                   sampler=SequentialSampler(dataset_val), \n",
    "                                   batch_size=batch_size)"
   ]
  },
  {
   "cell_type": "markdown",
   "id": "broken-finger",
   "metadata": {},
   "source": [
    "<a id=\"Optim\"></a>\n",
    "### Optimizer & Scheduler\n",
    "  - [Return to table](#Table)"
   ]
  },
  {
   "cell_type": "code",
   "execution_count": 80,
   "id": "analyzed-bradley",
   "metadata": {
    "ExecuteTime": {
     "end_time": "2021-05-26T17:50:38.988297Z",
     "start_time": "2021-05-26T17:50:38.974524Z"
    }
   },
   "outputs": [],
   "source": [
    "optimizer = AdamW(model.parameters(),\n",
    "                  lr=2e-5, \n",
    "                  eps=1e-8)\n",
    "                  \n",
    "epochs = 60\n",
    "\n",
    "scheduler = get_linear_schedule_with_warmup(optimizer, \n",
    "                                            num_warmup_steps=0,\n",
    "                                            num_training_steps=len(dataloader_train)*epochs)\n",
    "\n",
    "loss_fn = nn.CrossEntropyLoss().to(device)"
   ]
  },
  {
   "cell_type": "markdown",
   "id": "sufficient-sherman",
   "metadata": {},
   "source": [
    "<a id=\"Load\"></a>\n",
    "### Load pre-trained weight\n",
    "  - [Return to table](#Table)"
   ]
  },
  {
   "cell_type": "code",
   "execution_count": 81,
   "id": "indoor-result",
   "metadata": {
    "ExecuteTime": {
     "end_time": "2021-05-26T17:51:46.920943Z",
     "start_time": "2021-05-26T17:51:46.632870Z"
    }
   },
   "outputs": [],
   "source": [
    "# model.load_state_dict(torch.load('./model_save/SST_5_fine_tuning.model'))"
   ]
  },
  {
   "cell_type": "markdown",
   "id": "funky-playlist",
   "metadata": {},
   "source": [
    "<a id=\"Run\"></a>\n",
    "### Running model\n",
    "  - [Return to table](#Table)"
   ]
  },
  {
   "cell_type": "code",
   "execution_count": 82,
   "id": "advance-block",
   "metadata": {
    "ExecuteTime": {
     "end_time": "2021-05-26T17:51:47.626732Z",
     "start_time": "2021-05-26T17:51:47.544090Z"
    }
   },
   "outputs": [],
   "source": [
    "import random\n",
    "\n",
    "seed_val = 42\n",
    "random.seed(seed_val)\n",
    "np.random.seed(seed_val)\n",
    "torch.manual_seed(seed_val)\n",
    "torch.cuda.manual_seed_all(seed_val)\n",
    "\n",
    "def evaluate(dataloader_val):\n",
    "\n",
    "    model.eval()\n",
    "    predictions = []\n",
    "    \n",
    "    correct_predictions = 0\n",
    "    losses = []\n",
    "    \n",
    "    for batch in dataloader_val:\n",
    "        \n",
    "        batch = tuple(b.to(device) for b in batch)\n",
    "        \n",
    "        inputs = {'input_ids':      batch[0],\n",
    "                  'attention_mask': batch[1],\n",
    "                 }\n",
    "\n",
    "        with torch.no_grad():        \n",
    "            outputs = model(**inputs)\n",
    "            \n",
    "        _, preds = torch.max(outputs, dim=1)\n",
    "        predictions.append(preds)\n",
    "        \n",
    "        loss = loss_fn(outputs, batch[2])\n",
    "        \n",
    "        correct_predictions += torch.sum(preds == batch[2])\n",
    "        losses.append(loss.item())\n",
    "        \n",
    "    return correct_predictions.double() / len(dataloader_validation.dataset), np.mean(losses), predictions"
   ]
  },
  {
   "cell_type": "code",
   "execution_count": 83,
   "id": "pursuant-reconstruction",
   "metadata": {
    "ExecuteTime": {
     "end_time": "2021-05-26T18:25:55.600119Z",
     "start_time": "2021-05-26T17:51:48.631514Z"
    },
    "scrolled": true
   },
   "outputs": [
    {
     "data": {
      "application/vnd.jupyter.widget-view+json": {
       "model_id": "d443d71153e948e7b61052148b82a278",
       "version_major": 2,
       "version_minor": 0
      },
      "text/plain": [
       "HBox(children=(FloatProgress(value=0.0, max=60.0), HTML(value='')))"
      ]
     },
     "metadata": {},
     "output_type": "display_data"
    },
    {
     "data": {
      "application/vnd.jupyter.widget-view+json": {
       "model_id": "",
       "version_major": 2,
       "version_minor": 0
      },
      "text/plain": [
       "HBox(children=(FloatProgress(value=0.0, description='Epoch 1', max=4075.0, style=ProgressStyle(description_wid…"
      ]
     },
     "metadata": {},
     "output_type": "display_data"
    },
    {
     "name": "stdout",
     "output_type": "stream",
     "text": [
      "\n",
      "Epoch 1\n",
      "Training loss: 1.3995310572173698\n",
      "Validation loss: 1.301764938720437\n",
      "Valdation accuracy: 0.6002331002331003\n"
     ]
    },
    {
     "data": {
      "application/vnd.jupyter.widget-view+json": {
       "model_id": "",
       "version_major": 2,
       "version_minor": 0
      },
      "text/plain": [
       "HBox(children=(FloatProgress(value=0.0, description='Epoch 2', max=4075.0, style=ProgressStyle(description_wid…"
      ]
     },
     "metadata": {},
     "output_type": "display_data"
    },
    {
     "name": "stdout",
     "output_type": "stream",
     "text": [
      "\n",
      "Epoch 2\n",
      "Training loss: 1.28339090243439\n",
      "Validation loss: 1.2571220908054086\n",
      "Valdation accuracy: 0.6456876456876457\n"
     ]
    },
    {
     "data": {
      "application/vnd.jupyter.widget-view+json": {
       "model_id": "",
       "version_major": 2,
       "version_minor": 0
      },
      "text/plain": [
       "HBox(children=(FloatProgress(value=0.0, description='Epoch 3', max=4075.0, style=ProgressStyle(description_wid…"
      ]
     },
     "metadata": {},
     "output_type": "display_data"
    },
    {
     "name": "stdout",
     "output_type": "stream",
     "text": [
      "\n",
      "Epoch 3\n",
      "Training loss: 1.2210308394110276\n",
      "Validation loss: 1.1984367439913195\n",
      "Valdation accuracy: 0.7051282051282052\n"
     ]
    },
    {
     "data": {
      "application/vnd.jupyter.widget-view+json": {
       "model_id": "",
       "version_major": 2,
       "version_minor": 0
      },
      "text/plain": [
       "HBox(children=(FloatProgress(value=0.0, description='Epoch 4', max=4075.0, style=ProgressStyle(description_wid…"
      ]
     },
     "metadata": {},
     "output_type": "display_data"
    },
    {
     "name": "stdout",
     "output_type": "stream",
     "text": [
      "\n",
      "Epoch 4\n",
      "Training loss: 1.167189468474476\n",
      "Validation loss: 1.2348911914714547\n",
      "Valdation accuracy: 0.6655011655011654\n"
     ]
    },
    {
     "data": {
      "application/vnd.jupyter.widget-view+json": {
       "model_id": "",
       "version_major": 2,
       "version_minor": 0
      },
      "text/plain": [
       "HBox(children=(FloatProgress(value=0.0, description='Epoch 5', max=4075.0, style=ProgressStyle(description_wid…"
      ]
     },
     "metadata": {},
     "output_type": "display_data"
    },
    {
     "name": "stdout",
     "output_type": "stream",
     "text": [
      "\n",
      "Epoch 5\n",
      "Training loss: 1.1335064834319741\n",
      "Validation loss: 1.1605064885560856\n",
      "Valdation accuracy: 0.7406759906759907\n"
     ]
    },
    {
     "data": {
      "application/vnd.jupyter.widget-view+json": {
       "model_id": "",
       "version_major": 2,
       "version_minor": 0
      },
      "text/plain": [
       "HBox(children=(FloatProgress(value=0.0, description='Epoch 6', max=4075.0, style=ProgressStyle(description_wid…"
      ]
     },
     "metadata": {},
     "output_type": "display_data"
    },
    {
     "name": "stdout",
     "output_type": "stream",
     "text": [
      "\n",
      "Epoch 6\n",
      "Training loss: 1.1109823449403962\n",
      "Validation loss: 1.1503051181172215\n",
      "Valdation accuracy: 0.7534965034965035\n"
     ]
    },
    {
     "data": {
      "application/vnd.jupyter.widget-view+json": {
       "model_id": "",
       "version_major": 2,
       "version_minor": 0
      },
      "text/plain": [
       "HBox(children=(FloatProgress(value=0.0, description='Epoch 7', max=4075.0, style=ProgressStyle(description_wid…"
      ]
     },
     "metadata": {},
     "output_type": "display_data"
    },
    {
     "name": "stdout",
     "output_type": "stream",
     "text": [
      "\n",
      "Epoch 7\n",
      "Training loss: 1.0917314385343915\n",
      "Validation loss: 1.1391311540160067\n",
      "Valdation accuracy: 0.7651515151515151\n"
     ]
    },
    {
     "data": {
      "application/vnd.jupyter.widget-view+json": {
       "model_id": "",
       "version_major": 2,
       "version_minor": 0
      },
      "text/plain": [
       "HBox(children=(FloatProgress(value=0.0, description='Epoch 8', max=4075.0, style=ProgressStyle(description_wid…"
      ]
     },
     "metadata": {},
     "output_type": "display_data"
    },
    {
     "name": "stdout",
     "output_type": "stream",
     "text": [
      "\n",
      "Epoch 8\n",
      "Training loss: 1.0777266907545686\n",
      "Validation loss: 1.1155270437861597\n",
      "Valdation accuracy: 0.7884615384615384\n"
     ]
    },
    {
     "data": {
      "application/vnd.jupyter.widget-view+json": {
       "model_id": "",
       "version_major": 2,
       "version_minor": 0
      },
      "text/plain": [
       "HBox(children=(FloatProgress(value=0.0, description='Epoch 9', max=4075.0, style=ProgressStyle(description_wid…"
      ]
     },
     "metadata": {},
     "output_type": "display_data"
    },
    {
     "name": "stdout",
     "output_type": "stream",
     "text": [
      "\n",
      "Epoch 9\n",
      "Training loss: 1.0748482527615835\n",
      "Validation loss: 1.120284086881682\n",
      "Valdation accuracy: 0.782051282051282\n"
     ]
    },
    {
     "data": {
      "application/vnd.jupyter.widget-view+json": {
       "model_id": "",
       "version_major": 2,
       "version_minor": 0
      },
      "text/plain": [
       "HBox(children=(FloatProgress(value=0.0, description='Epoch 10', max=4075.0, style=ProgressStyle(description_wi…"
      ]
     },
     "metadata": {},
     "output_type": "display_data"
    },
    {
     "name": "stdout",
     "output_type": "stream",
     "text": [
      "\n",
      "Epoch 10\n",
      "Training loss: 1.0604623031323672\n",
      "Validation loss: 1.119757919810539\n",
      "Valdation accuracy: 0.7837995337995338\n"
     ]
    },
    {
     "data": {
      "application/vnd.jupyter.widget-view+json": {
       "model_id": "",
       "version_major": 2,
       "version_minor": 0
      },
      "text/plain": [
       "HBox(children=(FloatProgress(value=0.0, description='Epoch 11', max=4075.0, style=ProgressStyle(description_wi…"
      ]
     },
     "metadata": {},
     "output_type": "display_data"
    },
    {
     "name": "stdout",
     "output_type": "stream",
     "text": [
      "\n",
      "Epoch 11\n",
      "Training loss: 1.0560709384760243\n",
      "Validation loss: 1.1141852093297382\n",
      "Valdation accuracy: 0.7902097902097902\n"
     ]
    },
    {
     "data": {
      "application/vnd.jupyter.widget-view+json": {
       "model_id": "",
       "version_major": 2,
       "version_minor": 0
      },
      "text/plain": [
       "HBox(children=(FloatProgress(value=0.0, description='Epoch 12', max=4075.0, style=ProgressStyle(description_wi…"
      ]
     },
     "metadata": {},
     "output_type": "display_data"
    },
    {
     "name": "stdout",
     "output_type": "stream",
     "text": [
      "\n",
      "Epoch 12\n",
      "Training loss: 1.0481723447226308\n",
      "Validation loss: 1.0957206154978552\n",
      "Valdation accuracy: 0.8082750582750583\n"
     ]
    },
    {
     "data": {
      "application/vnd.jupyter.widget-view+json": {
       "model_id": "",
       "version_major": 2,
       "version_minor": 0
      },
      "text/plain": [
       "HBox(children=(FloatProgress(value=0.0, description='Epoch 13', max=4075.0, style=ProgressStyle(description_wi…"
      ]
     },
     "metadata": {},
     "output_type": "display_data"
    },
    {
     "name": "stdout",
     "output_type": "stream",
     "text": [
      "\n",
      "Epoch 13\n",
      "Training loss: 1.0417083756177703\n",
      "Validation loss: 1.0830047191575516\n",
      "Valdation accuracy: 0.8210955710955711\n"
     ]
    },
    {
     "data": {
      "application/vnd.jupyter.widget-view+json": {
       "model_id": "",
       "version_major": 2,
       "version_minor": 0
      },
      "text/plain": [
       "HBox(children=(FloatProgress(value=0.0, description='Epoch 14', max=4075.0, style=ProgressStyle(description_wi…"
      ]
     },
     "metadata": {},
     "output_type": "display_data"
    },
    {
     "name": "stdout",
     "output_type": "stream",
     "text": [
      "\n",
      "Epoch 14\n",
      "Training loss: 1.0361927900285077\n",
      "Validation loss: 1.0836311085279597\n",
      "Valdation accuracy: 0.8199300699300699\n"
     ]
    },
    {
     "data": {
      "application/vnd.jupyter.widget-view+json": {
       "model_id": "",
       "version_major": 2,
       "version_minor": 0
      },
      "text/plain": [
       "HBox(children=(FloatProgress(value=0.0, description='Epoch 15', max=4075.0, style=ProgressStyle(description_wi…"
      ]
     },
     "metadata": {},
     "output_type": "display_data"
    },
    {
     "name": "stdout",
     "output_type": "stream",
     "text": [
      "\n",
      "Epoch 15\n",
      "Training loss: 1.034005517447653\n",
      "Validation loss: 1.0961807974549227\n",
      "Valdation accuracy: 0.8088578088578089\n"
     ]
    },
    {
     "data": {
      "application/vnd.jupyter.widget-view+json": {
       "model_id": "",
       "version_major": 2,
       "version_minor": 0
      },
      "text/plain": [
       "HBox(children=(FloatProgress(value=0.0, description='Epoch 16', max=4075.0, style=ProgressStyle(description_wi…"
      ]
     },
     "metadata": {},
     "output_type": "display_data"
    },
    {
     "name": "stdout",
     "output_type": "stream",
     "text": [
      "\n",
      "Epoch 16\n",
      "Training loss: 1.0305885634831855\n",
      "Validation loss: 1.077976063240406\n",
      "Valdation accuracy: 0.8245920745920746\n"
     ]
    },
    {
     "data": {
      "application/vnd.jupyter.widget-view+json": {
       "model_id": "",
       "version_major": 2,
       "version_minor": 0
      },
      "text/plain": [
       "HBox(children=(FloatProgress(value=0.0, description='Epoch 17', max=4075.0, style=ProgressStyle(description_wi…"
      ]
     },
     "metadata": {},
     "output_type": "display_data"
    },
    {
     "name": "stdout",
     "output_type": "stream",
     "text": [
      "\n",
      "Epoch 17\n",
      "Training loss: 1.025636733309623\n",
      "Validation loss: 1.0721703684607218\n",
      "Valdation accuracy: 0.833916083916084\n"
     ]
    },
    {
     "data": {
      "application/vnd.jupyter.widget-view+json": {
       "model_id": "",
       "version_major": 2,
       "version_minor": 0
      },
      "text/plain": [
       "HBox(children=(FloatProgress(value=0.0, description='Epoch 18', max=4075.0, style=ProgressStyle(description_wi…"
      ]
     },
     "metadata": {},
     "output_type": "display_data"
    },
    {
     "name": "stdout",
     "output_type": "stream",
     "text": [
      "\n",
      "Epoch 18\n",
      "Training loss: 1.014456954865368\n",
      "Validation loss: 1.0644416318383327\n",
      "Valdation accuracy: 0.8397435897435898\n"
     ]
    },
    {
     "data": {
      "application/vnd.jupyter.widget-view+json": {
       "model_id": "",
       "version_major": 2,
       "version_minor": 0
      },
      "text/plain": [
       "HBox(children=(FloatProgress(value=0.0, description='Epoch 19', max=4075.0, style=ProgressStyle(description_wi…"
      ]
     },
     "metadata": {},
     "output_type": "display_data"
    },
    {
     "name": "stdout",
     "output_type": "stream",
     "text": [
      "\n",
      "Epoch 19\n",
      "Training loss: 1.012535260411128\n",
      "Validation loss: 1.0653641484504521\n",
      "Valdation accuracy: 0.8397435897435898\n"
     ]
    },
    {
     "data": {
      "application/vnd.jupyter.widget-view+json": {
       "model_id": "",
       "version_major": 2,
       "version_minor": 0
      },
      "text/plain": [
       "HBox(children=(FloatProgress(value=0.0, description='Epoch 20', max=4075.0, style=ProgressStyle(description_wi…"
      ]
     },
     "metadata": {},
     "output_type": "display_data"
    },
    {
     "name": "stdout",
     "output_type": "stream",
     "text": [
      "\n",
      "Epoch 20\n",
      "Training loss: 1.0108019427872874\n",
      "Validation loss: 1.0703695552293644\n",
      "Valdation accuracy: 0.833916083916084\n"
     ]
    },
    {
     "data": {
      "application/vnd.jupyter.widget-view+json": {
       "model_id": "",
       "version_major": 2,
       "version_minor": 0
      },
      "text/plain": [
       "HBox(children=(FloatProgress(value=0.0, description='Epoch 21', max=4075.0, style=ProgressStyle(description_wi…"
      ]
     },
     "metadata": {},
     "output_type": "display_data"
    },
    {
     "name": "stdout",
     "output_type": "stream",
     "text": [
      "\n",
      "Epoch 21\n",
      "Training loss: 1.0100599035602407\n",
      "Validation loss: 1.0648669780686844\n",
      "Valdation accuracy: 0.8397435897435898\n"
     ]
    },
    {
     "data": {
      "application/vnd.jupyter.widget-view+json": {
       "model_id": "",
       "version_major": 2,
       "version_minor": 0
      },
      "text/plain": [
       "HBox(children=(FloatProgress(value=0.0, description='Epoch 22', max=4075.0, style=ProgressStyle(description_wi…"
      ]
     },
     "metadata": {},
     "output_type": "display_data"
    },
    {
     "name": "stdout",
     "output_type": "stream",
     "text": [
      "\n",
      "Epoch 22\n",
      "Training loss: 1.0111349557075033\n",
      "Validation loss: 1.0623274972272474\n",
      "Valdation accuracy: 0.8420745920745921\n"
     ]
    },
    {
     "data": {
      "application/vnd.jupyter.widget-view+json": {
       "model_id": "",
       "version_major": 2,
       "version_minor": 0
      },
      "text/plain": [
       "HBox(children=(FloatProgress(value=0.0, description='Epoch 23', max=4075.0, style=ProgressStyle(description_wi…"
      ]
     },
     "metadata": {},
     "output_type": "display_data"
    },
    {
     "name": "stdout",
     "output_type": "stream",
     "text": [
      "\n",
      "Epoch 23\n",
      "Training loss: 1.0035236997107055\n",
      "Validation loss: 1.0707950625308724\n",
      "Valdation accuracy: 0.833916083916084\n"
     ]
    },
    {
     "data": {
      "application/vnd.jupyter.widget-view+json": {
       "model_id": "",
       "version_major": 2,
       "version_minor": 0
      },
      "text/plain": [
       "HBox(children=(FloatProgress(value=0.0, description='Epoch 24', max=4075.0, style=ProgressStyle(description_wi…"
      ]
     },
     "metadata": {},
     "output_type": "display_data"
    },
    {
     "name": "stdout",
     "output_type": "stream",
     "text": [
      "\n",
      "Epoch 24\n",
      "Training loss: 0.999907493825339\n",
      "Validation loss: 1.0696806048238001\n",
      "Valdation accuracy: 0.8356643356643356\n"
     ]
    },
    {
     "data": {
      "application/vnd.jupyter.widget-view+json": {
       "model_id": "",
       "version_major": 2,
       "version_minor": 0
      },
      "text/plain": [
       "HBox(children=(FloatProgress(value=0.0, description='Epoch 25', max=4075.0, style=ProgressStyle(description_wi…"
      ]
     },
     "metadata": {},
     "output_type": "display_data"
    },
    {
     "name": "stdout",
     "output_type": "stream",
     "text": [
      "\n",
      "Epoch 25\n",
      "Training loss: 1.0026470622548296\n",
      "Validation loss: 1.0645733167958813\n",
      "Valdation accuracy: 0.8409090909090909\n"
     ]
    },
    {
     "data": {
      "application/vnd.jupyter.widget-view+json": {
       "model_id": "",
       "version_major": 2,
       "version_minor": 0
      },
      "text/plain": [
       "HBox(children=(FloatProgress(value=0.0, description='Epoch 26', max=4075.0, style=ProgressStyle(description_wi…"
      ]
     },
     "metadata": {},
     "output_type": "display_data"
    },
    {
     "name": "stdout",
     "output_type": "stream",
     "text": [
      "\n",
      "Epoch 26\n",
      "Training loss: 0.995438851315551\n",
      "Validation loss: 1.0621311975079915\n",
      "Valdation accuracy: 0.8409090909090909\n"
     ]
    },
    {
     "data": {
      "application/vnd.jupyter.widget-view+json": {
       "model_id": "",
       "version_major": 2,
       "version_minor": 0
      },
      "text/plain": [
       "HBox(children=(FloatProgress(value=0.0, description='Epoch 27', max=4075.0, style=ProgressStyle(description_wi…"
      ]
     },
     "metadata": {},
     "output_type": "display_data"
    },
    {
     "name": "stdout",
     "output_type": "stream",
     "text": [
      "\n",
      "Epoch 27\n",
      "Training loss: 0.9941167753166947\n",
      "Validation loss: 1.0618591419486112\n",
      "Valdation accuracy: 0.8420745920745921\n"
     ]
    },
    {
     "data": {
      "application/vnd.jupyter.widget-view+json": {
       "model_id": "",
       "version_major": 2,
       "version_minor": 0
      },
      "text/plain": [
       "HBox(children=(FloatProgress(value=0.0, description='Epoch 28', max=4075.0, style=ProgressStyle(description_wi…"
      ]
     },
     "metadata": {},
     "output_type": "display_data"
    },
    {
     "name": "stdout",
     "output_type": "stream",
     "text": [
      "\n",
      "Epoch 28\n",
      "Training loss: 0.9929192385498\n",
      "Validation loss: 1.0545177268427472\n",
      "Valdation accuracy: 0.8502331002331003\n"
     ]
    },
    {
     "data": {
      "application/vnd.jupyter.widget-view+json": {
       "model_id": "",
       "version_major": 2,
       "version_minor": 0
      },
      "text/plain": [
       "HBox(children=(FloatProgress(value=0.0, description='Epoch 29', max=4075.0, style=ProgressStyle(description_wi…"
      ]
     },
     "metadata": {},
     "output_type": "display_data"
    },
    {
     "name": "stdout",
     "output_type": "stream",
     "text": [
      "\n",
      "Epoch 29\n",
      "Training loss: 0.9912832790210935\n",
      "Validation loss: 1.0529110811477485\n",
      "Valdation accuracy: 0.8519813519813519\n"
     ]
    },
    {
     "data": {
      "application/vnd.jupyter.widget-view+json": {
       "model_id": "",
       "version_major": 2,
       "version_minor": 0
      },
      "text/plain": [
       "HBox(children=(FloatProgress(value=0.0, description='Epoch 30', max=4075.0, style=ProgressStyle(description_wi…"
      ]
     },
     "metadata": {},
     "output_type": "display_data"
    },
    {
     "name": "stdout",
     "output_type": "stream",
     "text": [
      "\n",
      "Epoch 30\n",
      "Training loss: 0.9884480674427711\n",
      "Validation loss: 1.055931567868521\n",
      "Valdation accuracy: 0.8479020979020979\n"
     ]
    },
    {
     "data": {
      "application/vnd.jupyter.widget-view+json": {
       "model_id": "",
       "version_major": 2,
       "version_minor": 0
      },
      "text/plain": [
       "HBox(children=(FloatProgress(value=0.0, description='Epoch 31', max=4075.0, style=ProgressStyle(description_wi…"
      ]
     },
     "metadata": {},
     "output_type": "display_data"
    },
    {
     "name": "stdout",
     "output_type": "stream",
     "text": [
      "\n",
      "Epoch 31\n",
      "Training loss: 0.9884850508157461\n",
      "Validation loss: 1.0736748304477959\n",
      "Valdation accuracy: 0.8304195804195804\n"
     ]
    },
    {
     "data": {
      "application/vnd.jupyter.widget-view+json": {
       "model_id": "",
       "version_major": 2,
       "version_minor": 0
      },
      "text/plain": [
       "HBox(children=(FloatProgress(value=0.0, description='Epoch 32', max=4075.0, style=ProgressStyle(description_wi…"
      ]
     },
     "metadata": {},
     "output_type": "display_data"
    },
    {
     "name": "stdout",
     "output_type": "stream",
     "text": [
      "\n",
      "Epoch 32\n",
      "Training loss: 0.9877861681745096\n",
      "Validation loss: 1.036252805244091\n",
      "Valdation accuracy: 0.8677156177156177\n"
     ]
    },
    {
     "data": {
      "application/vnd.jupyter.widget-view+json": {
       "model_id": "",
       "version_major": 2,
       "version_minor": 0
      },
      "text/plain": [
       "HBox(children=(FloatProgress(value=0.0, description='Epoch 33', max=4075.0, style=ProgressStyle(description_wi…"
      ]
     },
     "metadata": {},
     "output_type": "display_data"
    },
    {
     "name": "stdout",
     "output_type": "stream",
     "text": [
      "\n",
      "Epoch 33\n",
      "Training loss: 0.9822962973454247\n",
      "Validation loss: 1.0423751625903817\n",
      "Valdation accuracy: 0.8618881118881119\n"
     ]
    },
    {
     "data": {
      "application/vnd.jupyter.widget-view+json": {
       "model_id": "",
       "version_major": 2,
       "version_minor": 0
      },
      "text/plain": [
       "HBox(children=(FloatProgress(value=0.0, description='Epoch 34', max=4075.0, style=ProgressStyle(description_wi…"
      ]
     },
     "metadata": {},
     "output_type": "display_data"
    },
    {
     "name": "stdout",
     "output_type": "stream",
     "text": [
      "\n",
      "Epoch 34\n",
      "Training loss: 0.9800187796756534\n",
      "Validation loss: 1.04613962201185\n",
      "Valdation accuracy: 0.8583916083916084\n"
     ]
    },
    {
     "data": {
      "application/vnd.jupyter.widget-view+json": {
       "model_id": "",
       "version_major": 2,
       "version_minor": 0
      },
      "text/plain": [
       "HBox(children=(FloatProgress(value=0.0, description='Epoch 35', max=4075.0, style=ProgressStyle(description_wi…"
      ]
     },
     "metadata": {},
     "output_type": "display_data"
    },
    {
     "name": "stdout",
     "output_type": "stream",
     "text": [
      "\n",
      "Epoch 35\n",
      "Training loss: 0.9759613502537546\n",
      "Validation loss: 1.0526007466538008\n",
      "Valdation accuracy: 0.8525641025641025\n"
     ]
    },
    {
     "data": {
      "application/vnd.jupyter.widget-view+json": {
       "model_id": "",
       "version_major": 2,
       "version_minor": 0
      },
      "text/plain": [
       "HBox(children=(FloatProgress(value=0.0, description='Epoch 36', max=4075.0, style=ProgressStyle(description_wi…"
      ]
     },
     "metadata": {},
     "output_type": "display_data"
    },
    {
     "name": "stdout",
     "output_type": "stream",
     "text": [
      "\n",
      "Epoch 36\n",
      "Training loss: 0.9755535488479707\n",
      "Validation loss: 1.0432740194852963\n",
      "Valdation accuracy: 0.8613053613053613\n"
     ]
    },
    {
     "data": {
      "application/vnd.jupyter.widget-view+json": {
       "model_id": "",
       "version_major": 2,
       "version_minor": 0
      },
      "text/plain": [
       "HBox(children=(FloatProgress(value=0.0, description='Epoch 37', max=4075.0, style=ProgressStyle(description_wi…"
      ]
     },
     "metadata": {},
     "output_type": "display_data"
    },
    {
     "name": "stdout",
     "output_type": "stream",
     "text": [
      "\n",
      "Epoch 37\n",
      "Training loss: 0.9762645457712419\n",
      "Validation loss: 1.0398325931194217\n",
      "Valdation accuracy: 0.8636363636363636\n"
     ]
    },
    {
     "data": {
      "application/vnd.jupyter.widget-view+json": {
       "model_id": "",
       "version_major": 2,
       "version_minor": 0
      },
      "text/plain": [
       "HBox(children=(FloatProgress(value=0.0, description='Epoch 38', max=4075.0, style=ProgressStyle(description_wi…"
      ]
     },
     "metadata": {},
     "output_type": "display_data"
    },
    {
     "name": "stdout",
     "output_type": "stream",
     "text": [
      "\n",
      "Epoch 38\n",
      "Training loss: 0.974932176745011\n",
      "Validation loss: 1.0378269409024439\n",
      "Valdation accuracy: 0.8671328671328671\n"
     ]
    },
    {
     "data": {
      "application/vnd.jupyter.widget-view+json": {
       "model_id": "",
       "version_major": 2,
       "version_minor": 0
      },
      "text/plain": [
       "HBox(children=(FloatProgress(value=0.0, description='Epoch 39', max=4075.0, style=ProgressStyle(description_wi…"
      ]
     },
     "metadata": {},
     "output_type": "display_data"
    },
    {
     "name": "stdout",
     "output_type": "stream",
     "text": [
      "\n",
      "Epoch 39\n",
      "Training loss: 0.9751944753289954\n",
      "Validation loss: 1.0406097656072573\n",
      "Valdation accuracy: 0.8642191142191142\n"
     ]
    },
    {
     "data": {
      "application/vnd.jupyter.widget-view+json": {
       "model_id": "",
       "version_major": 2,
       "version_minor": 0
      },
      "text/plain": [
       "HBox(children=(FloatProgress(value=0.0, description='Epoch 40', max=4075.0, style=ProgressStyle(description_wi…"
      ]
     },
     "metadata": {},
     "output_type": "display_data"
    },
    {
     "name": "stdout",
     "output_type": "stream",
     "text": [
      "\n",
      "Epoch 40\n",
      "Training loss: 0.9720527753800702\n",
      "Validation loss: 1.0328101682108501\n",
      "Valdation accuracy: 0.8712121212121212\n"
     ]
    },
    {
     "data": {
      "application/vnd.jupyter.widget-view+json": {
       "model_id": "",
       "version_major": 2,
       "version_minor": 0
      },
      "text/plain": [
       "HBox(children=(FloatProgress(value=0.0, description='Epoch 41', max=4075.0, style=ProgressStyle(description_wi…"
      ]
     },
     "metadata": {},
     "output_type": "display_data"
    },
    {
     "name": "stdout",
     "output_type": "stream",
     "text": [
      "\n",
      "Epoch 41\n",
      "Training loss: 0.9719115902456038\n",
      "Validation loss: 1.0358671834302502\n",
      "Valdation accuracy: 0.8677156177156177\n"
     ]
    },
    {
     "data": {
      "application/vnd.jupyter.widget-view+json": {
       "model_id": "",
       "version_major": 2,
       "version_minor": 0
      },
      "text/plain": [
       "HBox(children=(FloatProgress(value=0.0, description='Epoch 42', max=4075.0, style=ProgressStyle(description_wi…"
      ]
     },
     "metadata": {},
     "output_type": "display_data"
    },
    {
     "name": "stdout",
     "output_type": "stream",
     "text": [
      "\n",
      "Epoch 42\n",
      "Training loss: 0.9702987069440034\n",
      "Validation loss: 1.030691809709682\n",
      "Valdation accuracy: 0.8735431235431236\n"
     ]
    },
    {
     "data": {
      "application/vnd.jupyter.widget-view+json": {
       "model_id": "",
       "version_major": 2,
       "version_minor": 0
      },
      "text/plain": [
       "HBox(children=(FloatProgress(value=0.0, description='Epoch 43', max=4075.0, style=ProgressStyle(description_wi…"
      ]
     },
     "metadata": {},
     "output_type": "display_data"
    },
    {
     "name": "stdout",
     "output_type": "stream",
     "text": [
      "\n",
      "Epoch 43\n",
      "Training loss: 0.9694513260806265\n",
      "Validation loss: 1.031729298414186\n",
      "Valdation accuracy: 0.872960372960373\n"
     ]
    },
    {
     "data": {
      "application/vnd.jupyter.widget-view+json": {
       "model_id": "",
       "version_major": 2,
       "version_minor": 0
      },
      "text/plain": [
       "HBox(children=(FloatProgress(value=0.0, description='Epoch 44', max=4075.0, style=ProgressStyle(description_wi…"
      ]
     },
     "metadata": {},
     "output_type": "display_data"
    },
    {
     "name": "stdout",
     "output_type": "stream",
     "text": [
      "\n",
      "Epoch 44\n",
      "Training loss: 0.9676647763018228\n",
      "Validation loss: 1.0314684249633967\n",
      "Valdation accuracy: 0.872960372960373\n"
     ]
    },
    {
     "data": {
      "application/vnd.jupyter.widget-view+json": {
       "model_id": "",
       "version_major": 2,
       "version_minor": 0
      },
      "text/plain": [
       "HBox(children=(FloatProgress(value=0.0, description='Epoch 45', max=4075.0, style=ProgressStyle(description_wi…"
      ]
     },
     "metadata": {},
     "output_type": "display_data"
    },
    {
     "name": "stdout",
     "output_type": "stream",
     "text": [
      "\n",
      "Epoch 45\n",
      "Training loss: 0.9665607948244715\n",
      "Validation loss: 1.0341705577318059\n",
      "Valdation accuracy: 0.87004662004662\n"
     ]
    },
    {
     "data": {
      "application/vnd.jupyter.widget-view+json": {
       "model_id": "",
       "version_major": 2,
       "version_minor": 0
      },
      "text/plain": [
       "HBox(children=(FloatProgress(value=0.0, description='Epoch 46', max=4075.0, style=ProgressStyle(description_wi…"
      ]
     },
     "metadata": {},
     "output_type": "display_data"
    },
    {
     "name": "stdout",
     "output_type": "stream",
     "text": [
      "\n",
      "Epoch 46\n",
      "Training loss: 0.9671793953187626\n",
      "Validation loss: 1.0260930854220722\n",
      "Valdation accuracy: 0.8776223776223776\n"
     ]
    },
    {
     "data": {
      "application/vnd.jupyter.widget-view+json": {
       "model_id": "",
       "version_major": 2,
       "version_minor": 0
      },
      "text/plain": [
       "HBox(children=(FloatProgress(value=0.0, description='Epoch 47', max=4075.0, style=ProgressStyle(description_wi…"
      ]
     },
     "metadata": {},
     "output_type": "display_data"
    },
    {
     "name": "stdout",
     "output_type": "stream",
     "text": [
      "\n",
      "Epoch 47\n",
      "Training loss: 0.9659180397343782\n",
      "Validation loss: 1.022293519696524\n",
      "Valdation accuracy: 0.8822843822843823\n"
     ]
    },
    {
     "data": {
      "application/vnd.jupyter.widget-view+json": {
       "model_id": "",
       "version_major": 2,
       "version_minor": 0
      },
      "text/plain": [
       "HBox(children=(FloatProgress(value=0.0, description='Epoch 48', max=4075.0, style=ProgressStyle(description_wi…"
      ]
     },
     "metadata": {},
     "output_type": "display_data"
    },
    {
     "name": "stdout",
     "output_type": "stream",
     "text": [
      "\n",
      "Epoch 48\n",
      "Training loss: 0.9644106255572267\n",
      "Validation loss: 1.0220631444176962\n",
      "Valdation accuracy: 0.8822843822843823\n"
     ]
    },
    {
     "data": {
      "application/vnd.jupyter.widget-view+json": {
       "model_id": "",
       "version_major": 2,
       "version_minor": 0
      },
      "text/plain": [
       "HBox(children=(FloatProgress(value=0.0, description='Epoch 49', max=4075.0, style=ProgressStyle(description_wi…"
      ]
     },
     "metadata": {},
     "output_type": "display_data"
    },
    {
     "name": "stdout",
     "output_type": "stream",
     "text": [
      "\n",
      "Epoch 49\n",
      "Training loss: 0.9644006553164289\n",
      "Validation loss: 1.0214083338892737\n",
      "Valdation accuracy: 0.8828671328671329\n"
     ]
    },
    {
     "data": {
      "application/vnd.jupyter.widget-view+json": {
       "model_id": "",
       "version_major": 2,
       "version_minor": 0
      },
      "text/plain": [
       "HBox(children=(FloatProgress(value=0.0, description='Epoch 50', max=4075.0, style=ProgressStyle(description_wi…"
      ]
     },
     "metadata": {},
     "output_type": "display_data"
    },
    {
     "name": "stdout",
     "output_type": "stream",
     "text": [
      "\n",
      "Epoch 50\n",
      "Training loss: 0.9635057238859633\n",
      "Validation loss: 1.0265339005825131\n",
      "Valdation accuracy: 0.8776223776223776\n"
     ]
    },
    {
     "data": {
      "application/vnd.jupyter.widget-view+json": {
       "model_id": "",
       "version_major": 2,
       "version_minor": 0
      },
      "text/plain": [
       "HBox(children=(FloatProgress(value=0.0, description='Epoch 51', max=4075.0, style=ProgressStyle(description_wi…"
      ]
     },
     "metadata": {},
     "output_type": "display_data"
    },
    {
     "name": "stdout",
     "output_type": "stream",
     "text": [
      "\n",
      "Epoch 51\n",
      "Training loss: 0.9625204997998805\n",
      "Validation loss: 1.0253319518510686\n",
      "Valdation accuracy: 0.8793706293706294\n"
     ]
    },
    {
     "data": {
      "application/vnd.jupyter.widget-view+json": {
       "model_id": "",
       "version_major": 2,
       "version_minor": 0
      },
      "text/plain": [
       "HBox(children=(FloatProgress(value=0.0, description='Epoch 52', max=4075.0, style=ProgressStyle(description_wi…"
      ]
     },
     "metadata": {},
     "output_type": "display_data"
    },
    {
     "name": "stdout",
     "output_type": "stream",
     "text": [
      "\n",
      "Epoch 52\n",
      "Training loss: 0.9625144568250223\n",
      "Validation loss: 1.0239758053491281\n",
      "Valdation accuracy: 0.8805361305361306\n"
     ]
    },
    {
     "data": {
      "application/vnd.jupyter.widget-view+json": {
       "model_id": "",
       "version_major": 2,
       "version_minor": 0
      },
      "text/plain": [
       "HBox(children=(FloatProgress(value=0.0, description='Epoch 53', max=4075.0, style=ProgressStyle(description_wi…"
      ]
     },
     "metadata": {},
     "output_type": "display_data"
    },
    {
     "name": "stdout",
     "output_type": "stream",
     "text": [
      "\n",
      "Epoch 53\n",
      "Training loss: 0.9613182574547141\n",
      "Validation loss: 1.022796571809192\n",
      "Valdation accuracy: 0.8811188811188811\n"
     ]
    },
    {
     "data": {
      "application/vnd.jupyter.widget-view+json": {
       "model_id": "",
       "version_major": 2,
       "version_minor": 0
      },
      "text/plain": [
       "HBox(children=(FloatProgress(value=0.0, description='Epoch 54', max=4075.0, style=ProgressStyle(description_wi…"
      ]
     },
     "metadata": {},
     "output_type": "display_data"
    },
    {
     "name": "stdout",
     "output_type": "stream",
     "text": [
      "\n",
      "Epoch 54\n",
      "Training loss: 0.9611736802089433\n",
      "Validation loss: 1.0253071926360906\n",
      "Valdation accuracy: 0.8787878787878788\n"
     ]
    },
    {
     "data": {
      "application/vnd.jupyter.widget-view+json": {
       "model_id": "",
       "version_major": 2,
       "version_minor": 0
      },
      "text/plain": [
       "HBox(children=(FloatProgress(value=0.0, description='Epoch 55', max=4075.0, style=ProgressStyle(description_wi…"
      ]
     },
     "metadata": {},
     "output_type": "display_data"
    },
    {
     "name": "stdout",
     "output_type": "stream",
     "text": [
      "\n",
      "Epoch 55\n",
      "Training loss: 0.9605420550978256\n",
      "Validation loss: 1.019024083503457\n",
      "Valdation accuracy: 0.8851981351981352\n"
     ]
    },
    {
     "data": {
      "application/vnd.jupyter.widget-view+json": {
       "model_id": "",
       "version_major": 2,
       "version_minor": 0
      },
      "text/plain": [
       "HBox(children=(FloatProgress(value=0.0, description='Epoch 56', max=4075.0, style=ProgressStyle(description_wi…"
      ]
     },
     "metadata": {},
     "output_type": "display_data"
    },
    {
     "name": "stdout",
     "output_type": "stream",
     "text": [
      "\n",
      "Epoch 56\n",
      "Training loss: 0.9602242974269609\n",
      "Validation loss: 1.0189304252003515\n",
      "Valdation accuracy: 0.8857808857808858\n"
     ]
    },
    {
     "data": {
      "application/vnd.jupyter.widget-view+json": {
       "model_id": "",
       "version_major": 2,
       "version_minor": 0
      },
      "text/plain": [
       "HBox(children=(FloatProgress(value=0.0, description='Epoch 57', max=4075.0, style=ProgressStyle(description_wi…"
      ]
     },
     "metadata": {},
     "output_type": "display_data"
    },
    {
     "name": "stdout",
     "output_type": "stream",
     "text": [
      "\n",
      "Epoch 57\n",
      "Training loss: 0.9596622216482104\n",
      "Validation loss: 1.0162017026612924\n",
      "Valdation accuracy: 0.8886946386946387\n"
     ]
    },
    {
     "data": {
      "application/vnd.jupyter.widget-view+json": {
       "model_id": "",
       "version_major": 2,
       "version_minor": 0
      },
      "text/plain": [
       "HBox(children=(FloatProgress(value=0.0, description='Epoch 58', max=4075.0, style=ProgressStyle(description_wi…"
      ]
     },
     "metadata": {},
     "output_type": "display_data"
    },
    {
     "name": "stdout",
     "output_type": "stream",
     "text": [
      "\n",
      "Epoch 58\n",
      "Training loss: 0.9595074037832716\n",
      "Validation loss: 1.017732637427574\n",
      "Valdation accuracy: 0.8869463869463869\n"
     ]
    },
    {
     "data": {
      "application/vnd.jupyter.widget-view+json": {
       "model_id": "",
       "version_major": 2,
       "version_minor": 0
      },
      "text/plain": [
       "HBox(children=(FloatProgress(value=0.0, description='Epoch 59', max=4075.0, style=ProgressStyle(description_wi…"
      ]
     },
     "metadata": {},
     "output_type": "display_data"
    },
    {
     "name": "stdout",
     "output_type": "stream",
     "text": [
      "\n",
      "Epoch 59\n",
      "Training loss: 0.9589327369584628\n",
      "Validation loss: 1.0131637955820838\n",
      "Valdation accuracy: 0.8916083916083916\n"
     ]
    },
    {
     "data": {
      "application/vnd.jupyter.widget-view+json": {
       "model_id": "",
       "version_major": 2,
       "version_minor": 0
      },
      "text/plain": [
       "HBox(children=(FloatProgress(value=0.0, description='Epoch 60', max=4075.0, style=ProgressStyle(description_wi…"
      ]
     },
     "metadata": {},
     "output_type": "display_data"
    },
    {
     "name": "stdout",
     "output_type": "stream",
     "text": [
      "\n",
      "Epoch 60\n",
      "Training loss: 0.9588940210722707\n",
      "Validation loss: 1.0147852856059407\n",
      "Valdation accuracy: 0.8898601398601399\n",
      "\n"
     ]
    }
   ],
   "source": [
    "epochs = 60\n",
    "\n",
    "for epoch in tqdm(range(1, epochs+1)):\n",
    "    \n",
    "    model.train()\n",
    "    \n",
    "    correct_predictions = 0\n",
    "    losses = []\n",
    "\n",
    "\n",
    "    progress_bar = tqdm(dataloader_train, desc='Epoch {:1d}'.format(epoch), leave=False, disable=False)\n",
    "    for batch in progress_bar:\n",
    "\n",
    "\n",
    "        model.zero_grad()\n",
    "        \n",
    "        batch = tuple(b.to(device) for b in batch)\n",
    "        \n",
    "        inputs = {'input_ids':      batch[0],\n",
    "                  'attention_mask': batch[1],\n",
    "                 }       \n",
    "\n",
    "        outputs = model(**inputs)\n",
    "        \n",
    "        _, preds = torch.max(outputs, dim=1)\n",
    "        loss = loss_fn(outputs, batch[2])\n",
    "        \n",
    "        correct_predictions += torch.sum(preds == batch[2])\n",
    "        \n",
    "        losses.append(loss.item())\n",
    "        \n",
    "        loss.backward()\n",
    "        nn.utils.clip_grad_norm_(model.parameters(), 1.0)\n",
    "\n",
    "        optimizer.step()\n",
    "        scheduler.step()\n",
    "        \n",
    "        progress_bar.set_postfix({'training_loss': '{:.3f}'.format(loss.item()/len(batch))})\n",
    "        \n",
    "        optimizer.zero_grad()\n",
    "         \n",
    "    #If you want to save model parameters, please modify below code.\n",
    "    #Line 80 save model for every epochs\n",
    "    #torch.save(model.state_dict(), f'data_volume/finetuned_BERT_epoch_{epoch}.model')\n",
    "        \n",
    "    tqdm.write(f'\\nEpoch {epoch}')\n",
    "    \n",
    "    loss_train_avg = np.mean(losses)            \n",
    "    tqdm.write(f'Training loss: {loss_train_avg}')\n",
    "    \n",
    "    val_acc, val_loss, _ = evaluate(dataloader_validation)\n",
    "    tqdm.write(f'Validation loss: {val_loss}')\n",
    "    tqdm.write(f'Valdation accuracy: {val_acc}')"
   ]
  },
  {
   "cell_type": "markdown",
   "id": "average-jesus",
   "metadata": {},
   "source": [
    "<a id=\"Sub\"></a>\n",
    "### Test & Submission\n",
    "  - [Return to table](#Table)"
   ]
  },
  {
   "cell_type": "code",
   "execution_count": 84,
   "id": "olympic-topic",
   "metadata": {
    "ExecuteTime": {
     "end_time": "2021-05-26T18:25:55.615053Z",
     "start_time": "2021-05-26T18:25:55.601090Z"
    }
   },
   "outputs": [],
   "source": [
    "test_df = pd.read_csv('./data/eval_final_open.csv')\n",
    "test_df[\"Category\"] = np.zeros(test_df.shape[0])"
   ]
  },
  {
   "cell_type": "code",
   "execution_count": 85,
   "id": "afraid-holly",
   "metadata": {
    "ExecuteTime": {
     "end_time": "2021-05-26T18:25:56.869820Z",
     "start_time": "2021-05-26T18:25:55.616050Z"
    }
   },
   "outputs": [],
   "source": [
    "#Encode test sentence\n",
    "encoded_data_test = tokenizer.batch_encode_plus(\n",
    "    test_df.Sentence.values, #Sentence data\n",
    "    add_special_tokens=True,    #Encoded with special tokens relative to their model\n",
    "    return_attention_mask=True, #Return attention mask according to tokenizer defined by max_length att.\n",
    "    padding='longest',           #Padding!\n",
    "    #truncation=True,            \n",
    "    return_tensors='pt'         #Return torch tensor\n",
    ")\n",
    "\n",
    "dataloader_test = DataLoader(dataset_val, \n",
    "                             batch_size=batch_size)\n",
    "\n",
    "input_ids_test = encoded_data_test['input_ids']\n",
    "attention_masks_test = encoded_data_test['attention_mask']\n",
    "labels_test = torch.tensor(test_df.Category.values, dtype=int)\n",
    "\n",
    "dataset_test = TensorDataset(input_ids_test, attention_masks_test, labels_test)\n",
    "\n",
    "dataloader_test = DataLoader(dataset_test,\n",
    "                             batch_size=batch_size)"
   ]
  },
  {
   "cell_type": "code",
   "execution_count": 86,
   "id": "hundred-candle",
   "metadata": {
    "ExecuteTime": {
     "end_time": "2021-05-26T18:26:02.201636Z",
     "start_time": "2021-05-26T18:25:56.870818Z"
    }
   },
   "outputs": [],
   "source": [
    "_, _, predictions = evaluate(dataloader_test)\n",
    "pred = torch.cat([x for x in predictions])"
   ]
  },
  {
   "cell_type": "code",
   "execution_count": 87,
   "id": "synthetic-season",
   "metadata": {
    "ExecuteTime": {
     "end_time": "2021-05-26T18:26:02.231812Z",
     "start_time": "2021-05-26T18:26:02.201842Z"
    }
   },
   "outputs": [],
   "source": [
    "sub = pd.read_csv(\"./data/sample_sub.csv\")\n",
    "sub['Category'] = pred.cpu()\n",
    "\n",
    "sub.to_csv(\"./data/210602_all_bs8.csv\", index=False)"
   ]
  },
  {
   "cell_type": "code",
   "execution_count": null,
   "id": "77c77d09",
   "metadata": {},
   "outputs": [],
   "source": []
  }
 ],
 "metadata": {
  "hide_input": false,
  "kernelspec": {
   "display_name": "Python 3",
   "language": "python",
   "name": "python3"
  },
  "language_info": {
   "codemirror_mode": {
    "name": "ipython",
    "version": 3
   },
   "file_extension": ".py",
   "mimetype": "text/x-python",
   "name": "python",
   "nbconvert_exporter": "python",
   "pygments_lexer": "ipython3",
   "version": "3.7.9"
  }
 },
 "nbformat": 4,
 "nbformat_minor": 5
}
